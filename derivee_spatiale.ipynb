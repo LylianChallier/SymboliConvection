{
 "cells": [
  {
   "cell_type": "markdown",
   "id": "78cada66",
   "metadata": {},
   "source": [
    "# Estimation de la dérivée spatiale\n",
    "\n",
    "Ce problème est étudié dans la section 6.2 du rapport."
   ]
  },
  {
   "cell_type": "code",
   "execution_count": 2,
   "id": "b436813a",
   "metadata": {},
   "outputs": [],
   "source": [
    "import numpy as np \n",
    "import matplotlib.pyplot as plt \n",
    "import torch \n",
    "from utils.data_processing import *\n",
    "from utils.vizualisation import *"
   ]
  },
  {
   "cell_type": "code",
   "execution_count": null,
   "id": "63772000",
   "metadata": {},
   "outputs": [],
   "source": []
  }
 ],
 "metadata": {
  "language_info": {
   "name": "python"
  }
 },
 "nbformat": 4,
 "nbformat_minor": 5
}
