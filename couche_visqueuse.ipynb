{
 "cells": [
  {
   "cell_type": "markdown",
   "id": "81169a14",
   "metadata": {},
   "source": [
    "# Modèles experts de la couche visqueuse\n",
    "\n",
    "Ce problème est étudié dans la section 6.3 du rapport. "
   ]
  },
  {
   "cell_type": "code",
   "execution_count": 2,
   "id": "444aaac4",
   "metadata": {},
   "outputs": [],
   "source": [
    "import numpy as np \n",
    "import matplotlib.pyplot as plt \n",
    "import torch \n",
    "from utils.data_processing import *\n",
    "from utils.vizualisation import *"
   ]
  },
  {
   "cell_type": "code",
   "execution_count": null,
   "id": "8daa9cf5",
   "metadata": {},
   "outputs": [],
   "source": []
  }
 ],
 "metadata": {
  "kernelspec": {
   "display_name": "Python 3 (ipykernel)",
   "language": "python",
   "name": "python3"
  },
  "language_info": {
   "codemirror_mode": {
    "name": "ipython",
    "version": 3
   },
   "file_extension": ".py",
   "mimetype": "text/x-python",
   "name": "python",
   "nbconvert_exporter": "python",
   "pygments_lexer": "ipython3",
   "version": "3.12.9"
  }
 },
 "nbformat": 4,
 "nbformat_minor": 5
}
