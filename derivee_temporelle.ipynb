{
 "cells": [
  {
   "cell_type": "markdown",
   "id": "55fb253e",
   "metadata": {},
   "source": [
    "# Estimation de la dérivée temporelle\n",
    "\n",
    "Ce problème est étudié dans l'annexe F du rapport, le code original est dans NOTEBOOKS_ARCHIVES, pas encore réécrit ici."
   ]
  },
  {
   "cell_type": "code",
   "execution_count": null,
   "id": "28926887",
   "metadata": {},
   "outputs": [],
   "source": [
    "# import des modules\n",
    "import numpy as np \n",
    "import matplotlib.pyplot as plt \n",
    "import torch \n",
    "from utils.data_processing import *\n",
    "from utils.vizualisation import *\n",
    "import matplotlib.colors as mcolors\n",
    "from sklearn.model_selection import TimeSeriesSplit\n",
    "import pysindy as ps\n",
    "import kan\n",
    "import torch"
   ]
  }
 ],
 "metadata": {
  "language_info": {
   "name": "python"
  }
 },
 "nbformat": 4,
 "nbformat_minor": 5
}
