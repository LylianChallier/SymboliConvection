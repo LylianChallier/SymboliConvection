{
 "cells": [
  {
   "cell_type": "markdown",
   "id": "55fb253e",
   "metadata": {},
   "source": [
    "# Estimation de la dérivée temporelle\n",
    "\n",
    "Ce problème est étudié dans l'annexe F du rapport. "
   ]
  },
  {
   "cell_type": "code",
   "execution_count": 2,
   "id": "28926887",
   "metadata": {},
   "outputs": [],
   "source": [
    "import numpy as np \n",
    "import matplotlib.pyplot as plt \n",
    "import torch \n",
    "from utils.data_processing import *\n",
    "from utils.vizualisation import *"
   ]
  }
 ],
 "metadata": {
  "language_info": {
   "name": "python"
  }
 },
 "nbformat": 4,
 "nbformat_minor": 5
}
